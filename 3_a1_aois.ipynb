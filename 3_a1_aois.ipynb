{
 "cells": [
  {
   "cell_type": "markdown",
   "metadata": {},
   "source": [
    "# Workflow #1\n",
    "\n",
    "This notebook assesses and plots the AOIs."
   ]
  },
  {
   "cell_type": "code",
   "execution_count": null,
   "metadata": {},
   "outputs": [],
   "source": [
    "\n",
    "import algo.net_helper as nh\n",
    "import os.path\n",
    "import geopandas as gpd\n",
    "import numpy as np\n",
    "import contextily as cx\n",
    "from matplotlib_scalebar.scalebar import ScaleBar\n",
    "import matplotlib.pyplot as plt\n",
    "import rasterio as rio\n",
    "\n",
    "# settings\n",
    "aoi_names = [\"at_wien\", \"at_zs\", \"at_ib\", \"at_no\", \"at_zw\", \"at_graz_15\"]\n",
    "\n",
    "EDGE_WIDTH = 7000\n",
    "\n",
    "file_suffix = \"\"\n",
    "\n",
    "dir_data = \"data\"\n",
    "\n",
    "mode = \"bike_incwalk\"\n",
    "# tolerable access is determined by input network: all segments that have an index value assigned \n",
    "# (other than NULL, > 0) but have mode access set to False\n",
    "access = \"bicycle\" \n",
    "\n",
    "# generated params\n",
    "f_network_cent = os.path.join(dir_data, f\"r_<aoi_name>_edges{file_suffix}.gpkg\")\n",
    "f_ps = os.path.join(dir_data, f\"ps_<aoi_name>{file_suffix}.gpkg\")"
   ]
  },
  {
   "cell_type": "code",
   "execution_count": null,
   "metadata": {},
   "outputs": [],
   "source": [
    "cols = []\n",
    "\n",
    "# first, get all columns (max. possible set)\n",
    "for aoi in aoi_names:\n",
    "    fn = f_network_cent.replace(\"<aoi_name>\", aoi)\n",
    "    if not os.path.isfile(fn):\n",
    "        print(\"FILE NOT FOUND:\", fn)\n",
    "        continue\n",
    "    print(\"reading file:\", fn)\n",
    "    cs = nh.read_cols_from_gpkg(fn)\n",
    "    for c in cs:\n",
    "        if not c in cols:\n",
    "            cols.append(c)\n",
    "print(\"found a total of\", len(cols), \"columns\")"
   ]
  },
  {
   "cell_type": "code",
   "execution_count": null,
   "metadata": {},
   "outputs": [],
   "source": [
    "# now, find columns not present for the given AOI\n",
    "missing = dict([(k,[]) for k in cols])\n",
    "for aoi in aoi_names:\n",
    "    fn = f_network_cent.replace(\"<aoi_name>\", aoi)\n",
    "    if not os.path.isfile(fn):\n",
    "        print(\"FILE NOT FOUND:\", fn)\n",
    "        continue\n",
    "    print(\"reading file:\", fn)\n",
    "    cs = nh.read_cols_from_gpkg(fn)\n",
    "    for c in cols:\n",
    "        if not c in cs:\n",
    "            missing[c].append(aoi)\n",
    "            \n",
    "print(\"\\n--- RESULTS ---\")\n",
    "for k in missing:\n",
    "    if k.endswith(\"_ft\") or k.endswith(\"_tf\"):\n",
    "        continue\n",
    "    v = missing[k]\n",
    "    if len(v) > 0:\n",
    "        print(k.replace(\"_sum\", \"\"), v)"
   ]
  },
  {
   "cell_type": "markdown",
   "metadata": {},
   "source": [
    "## Retrieve spatial extent"
   ]
  },
  {
   "cell_type": "code",
   "execution_count": null,
   "metadata": {},
   "outputs": [],
   "source": [
    "import sqlite3\n",
    "import pandas as pd\n",
    "import geopandas as gpd\n",
    "import shapely as sly\n",
    "# get extent per AOI\n",
    "target_crs = 32633\n",
    "\n",
    "aois = []\n",
    "for aoi in aoi_names:\n",
    "    fn = f_network_cent.replace(\"<aoi_name>\", aoi)\n",
    "    if not os.path.isfile(fn):\n",
    "        print(\"FILE NOT FOUND:\", fn)\n",
    "        continue\n",
    "    print(\"reading file:\", fn)\n",
    "    con = sqlite3.connect(fn)\n",
    "    srid, xmin, xmax, ymin, ymax = con.execute(\"SELECT srs_id, min_x, max_x, min_y, max_y FROM gpkg_contents LIMIT 1\").fetchone()\n",
    "    con.close()\n",
    "    full_ext = sly.Polygon(((xmin, ymin), (xmin, ymax), (xmax, ymax), (xmax, ymin), (xmin, ymin)))\n",
    "    aois.append({\n",
    "        \"aoi_name\": aoi,\n",
    "        \"srid\": srid\n",
    "    })\n",
    "aoi_df = pd.DataFrame(aois)\n",
    "aoi_df"
   ]
  },
  {
   "cell_type": "code",
   "execution_count": null,
   "metadata": {},
   "outputs": [],
   "source": [
    "for idx in aoi_df.index.values:\n",
    "    # plot individual AOIs: map outer bounds: full_extent; marker: core_extent\n",
    "    # basemap: OSM\n",
    "    # overlay: network (very thin / hairline)\n",
    "    aoi_name = aoi_df.loc[idx].aoi_name\n",
    "    print(aoi_name)\n",
    "    # load network geometry\n",
    "    print(\"loading network geometry...\")\n",
    "    net = gpd.read_file(f_network_cent.replace(\"<aoi_name>\", aoi_name), columns=[\"osm_id\", \"geometry\"])\n",
    "    # compute envelope on network reprojected to WGS84 (which was originally used to query data)\n",
    "    orig_env_wgs84 = net.to_crs(4326).union_all().envelope\n",
    "    orig_env = nh.transform_geom(orig_env_wgs84, 4326, aoi_df.loc[idx].srid, inv_xy=True)\n",
    "    # assign precise AOI extents\n",
    "    aoi_df.loc[idx, \"full_extent\"] = orig_env\n",
    "    aoi_df.loc[idx, \"core_extent\"] = orig_env.buffer(-EDGE_WIDTH)\n",
    "    # add reprojected versions (to target_crs)\n",
    "    aoi_df.loc[idx, \"full_extent_wgs84\"] = orig_env_wgs84\n",
    "    aoi_df.loc[idx, \"core_extent_wgs84\"] = nh.transform_geom(orig_env.buffer(-EDGE_WIDTH), aoi_df.loc[idx].srid, 4326, True)\n",
    "    # compute x and y dimensions from original input\n",
    "    orig_bounds_wgs84 = orig_env_wgs84.bounds\n",
    "    p1 = sly.Point([orig_bounds_wgs84[0], orig_bounds_wgs84[1]])\n",
    "    p2 = sly.Point([orig_bounds_wgs84[0], orig_bounds_wgs84[3]])\n",
    "    p3 = sly.Point([orig_bounds_wgs84[2], orig_bounds_wgs84[1]])\n",
    "    ## p1-p2: y-direction; p1-p3: x-direction\n",
    "    p1t = nh.transform_geom(p1, 4326, target_crs, True)\n",
    "    p2t = nh.transform_geom(p2, 4326, target_crs, True)\n",
    "    p3t = nh.transform_geom(p3, 4326, target_crs, True)\n",
    "    dx = p1t.distance(p3t)\n",
    "    dy = p1t.distance(p2t)\n",
    "    print(\"dx:\", dx, \"- dy:\", dy, \"|| dimensions in metric CRS:\", orig_env.bounds[2]-orig_env.bounds[0], orig_env.bounds[3]-orig_env.bounds[1])\n",
    "    ## append info to df\n",
    "    aoi_df.loc[idx, \"total_dim_x\"] = dx\n",
    "    aoi_df.loc[idx, \"total_dim_y\"] = dy\n",
    "    aoi_df.loc[idx, \"total_area\"] = dx*dy\n",
    "    aoi_df.loc[idx, \"center_dim_x\"] = dx-EDGE_WIDTH*2\n",
    "    aoi_df.loc[idx, \"center_dim_y\"] = dy-EDGE_WIDTH*2\n",
    "    aoi_df.loc[idx, \"center_area\"] = (dx-EDGE_WIDTH*2)*(dy-EDGE_WIDTH*2)\n",
    "    \n",
    "    # now, plot AOI\n",
    "    print(\"plotting...\")\n",
    "    aoi_core_gdf = gpd.GeoDataFrame([aoi_df.loc[idx]], geometry=\"core_extent\", crs=aoi_df.loc[idx].srid)\n",
    "    aoi_full_gdf = gpd.GeoDataFrame([aoi_df.loc[idx]], geometry=\"full_extent\", crs=aoi_df.loc[idx].srid)\n",
    "    fext = aoi_df.loc[idx].full_extent.bounds\n",
    "    pltdir_aoi = os.path.join(\"plots\", aoi_name)\n",
    "    if not os.path.exists(pltdir_aoi):\n",
    "        os.makedirs(pltdir_aoi)\n",
    "    ax = aoi_full_gdf.plot(facecolor=\"none\", edgecolor=\"#B8014A55\", linewidth=0.5, figsize=(5,5))\n",
    "    #net.plot(ax=ax, linewidth=0.1, edgecolor=\"#555\")\n",
    "    aoi_core_gdf.plot(ax=ax, facecolor=\"#B8014A11\", edgecolor=\"#B8014A\", linewidth=0.5)\n",
    "    ax.set_xlim([fext[0], fext[2]])\n",
    "    ax.set_ylim([fext[1], fext[3]])\n",
    "    cx.add_basemap(ax, crs=target_crs, zoom_adjust=1, source=cx.providers.OpenStreetMap.Mapnik, attribution=\"\") # source=cx.providers.CartoDB.Positron\n",
    "    ax.set_axis_off()\n",
    "    ax.add_artist(ScaleBar(1))\n",
    "    print(\"saving file...\")\n",
    "    plt.savefig(os.path.join(pltdir_aoi, \"aoi.png\"), dpi=600, bbox_inches='tight', pad_inches=0, transparent=True)"
   ]
  },
  {
   "cell_type": "code",
   "execution_count": null,
   "metadata": {},
   "outputs": [],
   "source": [
    "aoi_df"
   ]
  },
  {
   "cell_type": "code",
   "execution_count": null,
   "metadata": {},
   "outputs": [],
   "source": [
    "aoi_gdf = gpd.GeoDataFrame(aoi_df, geometry=\"full_extent_wgs84\", crs=4326)\n",
    "aoi_gdf[[\"aoi_name\", \"srid\", \"full_extent_wgs84\"]].explore()"
   ]
  },
  {
   "cell_type": "code",
   "execution_count": null,
   "metadata": {},
   "outputs": [],
   "source": [
    "pltdir = \"plots\"\n",
    "if not os.path.exists(pltdir):\n",
    "    os.makedirs(pltdir)\n",
    "\n",
    "ax = aoi_gdf.full_extent_wgs84.to_crs(3857).plot(facecolor=\"#017AB822\", edgecolor=\"#017AB8\", linewidth=0.5, figsize=(20,20))\n",
    "aoi_gdf.set_geometry(\"core_extent_wgs84\", crs=4326).to_crs(3857).plot(ax=ax, facecolor=\"#017AB822\", edgecolor=\"#017AB8\", linewidth=0.5, figsize=(20,20))\n",
    "cx.add_basemap(ax, crs=3857, source=cx.providers.CartoDB.Positron, zoom_adjust=1)\n",
    "\n",
    "ax.set_axis_off()\n",
    "ax.add_artist(ScaleBar(1))\n",
    "plt.savefig(os.path.join(pltdir, f\"aois.png\"), dpi=500, bbox_inches='tight', pad_inches=0, transparent=True)"
   ]
  },
  {
   "cell_type": "code",
   "execution_count": null,
   "metadata": {},
   "outputs": [],
   "source": [
    "cols_export = []\n",
    "for c in aoi_gdf.columns:\n",
    "    if c.find(\"extent\") < 0 or c==aoi_gdf.geometry.name:\n",
    "        cols_export.append(c)\n",
    "aoi_gdf[cols_export].to_file(os.path.join(dir_data, \"aois.gpkg\"), layer=aoi_gdf.geometry.name)"
   ]
  },
  {
   "cell_type": "code",
   "execution_count": null,
   "metadata": {},
   "outputs": [],
   "source": [
    "aoi_gdf.set_geometry(\"core_extent_wgs84\", crs=4326, inplace=True)\n",
    "cols_export = []\n",
    "for c in aoi_gdf.columns:\n",
    "    if c.find(\"extent\") < 0 or c==aoi_gdf.geometry.name:\n",
    "        cols_export.append(c)\n",
    "aoi_gdf[cols_export].to_file(os.path.join(dir_data, \"aois.gpkg\"), layer=aoi_gdf.geometry.name)"
   ]
  }
 ],
 "metadata": {
  "kernelspec": {
   "display_name": "da",
   "language": "python",
   "name": "python3"
  },
  "language_info": {
   "codemirror_mode": {
    "name": "ipython",
    "version": 3
   },
   "file_extension": ".py",
   "mimetype": "text/x-python",
   "name": "python",
   "nbconvert_exporter": "python",
   "pygments_lexer": "ipython3",
   "version": "3.12.5"
  }
 },
 "nbformat": 4,
 "nbformat_minor": 2
}
