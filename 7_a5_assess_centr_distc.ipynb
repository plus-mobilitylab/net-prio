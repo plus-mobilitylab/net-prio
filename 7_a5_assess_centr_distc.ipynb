{
 "cells": [
  {
   "cell_type": "markdown",
   "metadata": {},
   "source": [
    "# Workflow #5\n",
    "\n",
    "Comparative assessment: Distance variants"
   ]
  },
  {
   "cell_type": "code",
   "execution_count": null,
   "metadata": {},
   "outputs": [],
   "source": [
    "import algo.helper as h\n",
    "import os.path\n",
    "import geopandas as gpd\n",
    "import pandas as pd\n",
    "import matplotlib.pyplot as plt\n",
    "\n",
    "\n",
    "# settings\n",
    "aoi_names = [\"at_wien\", \"at_zs\", \"at_ib\", \"at_no\", \"at_zw\", \"at_graz_15\"]\n",
    "\n",
    "recalc = False\n",
    "generate_plots = True\n",
    "plot_dir = os.path.join(\"plots\", \"centr_rdist\")\n",
    "\n",
    "file_suffix = \"\"\n",
    "\n",
    "dir_data = \"data\"\n",
    "\n",
    "mode = \"bike_incwalk\"\n",
    "# tolerable access is determined by input network: all segments that have an index value assigned \n",
    "# (other than NULL, > 0) but have mode access set to False\n",
    "access = \"bicycle\" \n",
    "\n",
    "# plot settings\n",
    "P_SIZE_S = (4,3)\n",
    "# colors: distance variants\n",
    "P_C_D2 = \"#2C8DBC\"\n",
    "P_C_D4 = \"#056390\"\n",
    "P_C_D7 = \"#003650\"\n",
    "# colors: min, mean, max\n",
    "P_C_MIN = \"#00A246\"\n",
    "P_C_MEAN = \"#270D9D\"\n",
    "P_C_MAX = \"#C60049\"\n",
    "\n",
    "# generated params\n",
    "file = os.path.join(dir_data, f\"r_<aoi_name>_edges{file_suffix}.gpkg\")\n",
    "f_diffstats_dist_cutoff = os.path.join(dir_data, f\"centr_diffstats_dist_cutoff.csv\")\n"
   ]
  },
  {
   "cell_type": "code",
   "execution_count": null,
   "metadata": {},
   "outputs": [],
   "source": [
    "compare_dist_refcols = [\"centr_sbc_c2000_bp_d4_sum\", \"centr_sbc_c4000_bp_d4_sum\", \"centr_sbc_c7000_bp_d4_sum\",\n",
    "                        \"centr_sbc_c2000_sp_sum\", \"centr_sbc_c4000_sp_sum\", \"centr_sbc_c7000_sp_sum\"]"
   ]
  },
  {
   "cell_type": "code",
   "execution_count": null,
   "metadata": {},
   "outputs": [],
   "source": [
    "def run_comparison(aoi, centr_summary, plot_core_aoi=False, plot_core_aoi_mask=True, lw=0.3):\n",
    "    fn = file.replace(\"<aoi_name>\", aoi)\n",
    "    if not os.path.exists(fn):\n",
    "        print(f\"ERR: file '{fn}' not found.\")\n",
    "        return\n",
    "    dir_detail_plot = os.path.join(\"plots\", aoi)\n",
    "    aoi_core_extent = h.get_aoi_extent(aoi)\n",
    "    if aoi_core_extent.iloc[0].geometry.area < 1:\n",
    "        print(f\"WARN: invalid core area of '{aoi}' - maybe your input area is too small? Please check input. Skipping.\")\n",
    "        return\n",
    "\n",
    "    # read file (clipped to bounding box of core extent - needs to be clipped to exact extent after import)\n",
    "    centr_df = gpd.read_file(fn, bbox=aoi_core_extent.iloc[0].geometry.bounds, engine='pyogrio') # pot. speedup: use arrow\n",
    "    print(\"loaded input gdf.\", len(centr_df), \"edges\")\n",
    "    print(\"clipping to core AOI extent...\")\n",
    "    centr_df = centr_df.clip(aoi_core_extent)\n",
    "    print(\"done.\", len(centr_df), \"edges\")\n",
    "    cols = centr_df.columns\n",
    "    print(cols)\n",
    "    for refcol in compare_dist_refcols:\n",
    "        cref = h.CentralityDef.from_str(refcol)\n",
    "        print(\"processing ref col:\", cref)\n",
    "        # find compare target cols\n",
    "        for col in cols:\n",
    "            if not col.startswith(\"centr_\") or not col.endswith(\"_sum\"):\n",
    "                continue\n",
    "            cref_label = \"\" \n",
    "            c_label = \"\"\n",
    "            c = None\n",
    "            cand = h.CentralityDef.from_str(col)\n",
    "            if cref.to_str() == cand.to_str():\n",
    "                continue\n",
    "            if cand.type == cref.type and cand.is_bp == cref.is_bp and cand.dfac == cref.dfac and cand.nws == cref.nws and cand.refnet == cref.refnet:\n",
    "                if cand.decay_from == cref.decay_from and cand.cut > cref.cut:\n",
    "                    # dist cutoff variant\n",
    "                    c = cand\n",
    "                    if cref.decay_from < 0:\n",
    "                        cref_label = f\"{cref.cut / 1000:.0f} km\"\n",
    "                        c_label = f\"{c.cut / 1000:.0f} km\"\n",
    "                    else:\n",
    "                        cref_label = f\"{cref.decay_from / 1000:.0f}-{cref.cut / 1000:.0f} km\"\n",
    "                        c_label = f\"{c.decay_from / 1000:.0f}-{c.cut / 1000:.0f} km\"\n",
    "                elif cref.decay_from == -1 and not (cand.decay_from > cref.cut or cand.cut < cref.cut):\n",
    "                    # non-decay as ref. and cref_cut is within the decay range of cand\n",
    "                    c = cand\n",
    "                    cref_label = f\"{cref.cut / 1000:.0f} km\"\n",
    "                    c_label = f\"{c.decay_from / 1000:.0f}-{c.cut / 1000:.0f} km\"\n",
    "            if c is None:\n",
    "                continue\n",
    "            c_type = f\"{cref.type}_{'bp' if cref.is_bp else 'sp'}\"\n",
    "            comp_label = f\"{c_type}_{cref.cut:.0f}_cutoff_dist\"\n",
    "            if cref.decay_from > -1:\n",
    "                comp_label = f\"{c_type}_{cref.cut:.0f}_decay\"\n",
    "            comp_variant_label = f\"{c_type} {c_label} : {cref_label}\"\n",
    "            # run comparison\n",
    "            centr_summary.append(\n",
    "                h.centr_comparison(aoi, centr_df, c, cref, dir_detail_plot=dir_detail_plot, centr_diff_name=comp_label,\n",
    "                                   c_label=c_label, cref_label=cref_label, ccomp_label=comp_variant_label, generate_plots=generate_plots)\n",
    "                )\n",
    "            #centr_summary.append({\"test\":\"x\", \"cl\": c_label, \"crefl\": cref_label, \"ctype\": c_type, \"c\": str(c), \"cref\": str(cref)})"
   ]
  },
  {
   "cell_type": "code",
   "execution_count": null,
   "metadata": {},
   "outputs": [],
   "source": [
    "if not recalc and os.path.exists(f_diffstats_dist_cutoff):\n",
    "    cdf = pd.read_csv(f_diffstats_dist_cutoff)\n",
    "    display(cdf.head())\n",
    "else:\n",
    "    centr_summary = []\n",
    "    for aoi in aoi_names:\n",
    "        run_comparison(aoi, centr_summary)\n",
    "        \n",
    "    cdf = pd.DataFrame.from_dict(centr_summary, orient=\"columns\")\n",
    "    display(cdf.head())\n",
    "    cdf.to_csv(f_diffstats_dist_cutoff) "
   ]
  },
  {
   "cell_type": "code",
   "execution_count": null,
   "metadata": {},
   "outputs": [],
   "source": [
    "cdf"
   ]
  },
  {
   "cell_type": "code",
   "execution_count": null,
   "metadata": {},
   "outputs": [],
   "source": [
    "grp = cdf.loc[:,[\"label_compare\", \"d_max_c\", \"d_max_c_rel\", \"d_hc_seg_n\", \"d_hc_seg_n_rel\",\n",
    "           \"hc_seg_added\", \"hc_seg_removed\", \"hc_seg_remained\",\n",
    "           \"hc_seg_share_changed\", \"hcq_d_mean\", \"hcq_dn_mean\", \"hcq_dn_rel_mean\",\n",
    "           \"hcp_d_mean\", \"hcp_dn_mean\", \"hcp_dn_rel_mean\",\n",
    "           \"dn_incr_gt10\", \"dn_decr_gt10\", \n",
    "           'dn_incr_gt20', 'dn_decr_gt20', 'n_turned_zero']].groupby([\"label_compare\"])\n",
    "mean_agg = grp.mean()\n",
    "mean_agg"
   ]
  },
  {
   "cell_type": "code",
   "execution_count": null,
   "metadata": {},
   "outputs": [],
   "source": [
    "# TODO: sep. charts for bp and sp variants, sort by values (ranked)\n",
    "\n",
    "mean_agg[\"hc_seg_share_changed\"].plot.bar()"
   ]
  },
  {
   "cell_type": "code",
   "execution_count": null,
   "metadata": {},
   "outputs": [],
   "source": [
    "mean_agg[\"hcq_dn_mean\"].plot.bar()"
   ]
  },
  {
   "cell_type": "code",
   "execution_count": null,
   "metadata": {},
   "outputs": [],
   "source": [
    "mean_agg[\"hcp_dn_mean\"].plot.bar()"
   ]
  },
  {
   "cell_type": "markdown",
   "metadata": {},
   "source": [
    "### bikeable routes"
   ]
  },
  {
   "cell_type": "code",
   "execution_count": null,
   "metadata": {},
   "outputs": [],
   "source": [
    "g = cdf[cdf.c_is_bp].groupby(\"label_compare\")\n",
    "g.hc_seg_share_changed.describe()"
   ]
  },
  {
   "cell_type": "code",
   "execution_count": null,
   "metadata": {},
   "outputs": [],
   "source": [
    "plot = g.hc_seg_share_changed.describe().sort_values(by=\"mean\")[[\"min\", \"mean\", \"max\"]].plot(\n",
    "    figsize=(10,3), color=[P_C_MIN, P_C_MEAN, P_C_MAX], xlabel=\"sbc bp variants: dist decay / cutoff [km]\")\n",
    "plt.setp(plot.axes.get_xticklabels(True), visible=True)\n",
    "plt.setp(plot.axes.get_xticklabels(False), visible=True)\n",
    "tls = g.hc_seg_share_changed.describe().sort_values(by=\"mean\")[[\"min\", \"mean\", \"max\"]].index.values\n",
    "tls_renamed = []\n",
    "for l in tls:\n",
    "    tls_renamed.append(l.lstrip(\"sbc_bp \").replace(\" km\", \"\"))\n",
    "plt.xticks([i for i in range(len(tls))],tls_renamed)\n",
    "h.save_plot(\"hc_share_chg_all\", plot_dir, show=True)"
   ]
  }
 ],
 "metadata": {
  "kernelspec": {
   "display_name": "da",
   "language": "python",
   "name": "python3"
  },
  "language_info": {
   "codemirror_mode": {
    "name": "ipython",
    "version": 3
   },
   "file_extension": ".py",
   "mimetype": "text/x-python",
   "name": "python",
   "nbconvert_exporter": "python",
   "pygments_lexer": "ipython3",
   "version": "3.12.5"
  }
 },
 "nbformat": 4,
 "nbformat_minor": 2
}
