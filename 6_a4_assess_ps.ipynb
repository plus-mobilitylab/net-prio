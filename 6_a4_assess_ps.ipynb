{
 "cells": [
  {
   "cell_type": "markdown",
   "metadata": {},
   "source": [
    "# Workflow #4\n",
    "\n",
    "This notebook runs Priority Score assessments."
   ]
  },
  {
   "cell_type": "code",
   "execution_count": null,
   "metadata": {},
   "outputs": [],
   "source": [
    "import algo.net_helper as nh\n",
    "import algo.helper as h \n",
    "import os.path\n",
    "import geopandas as gpd\n",
    "import pandas as pd\n",
    "import matplotlib.pyplot as plt\n",
    "\n",
    "\n",
    "# settings\n",
    "aoi_names = [\"at_zs\", \"at_wien\", \"at_ib\", \"at_no\", \"at_zw\", \"at_graz_15\"]\n",
    "\n",
    "centrality_variant = \"sbc_c4000_bp_d4\"\n",
    "\n",
    "file_suffix = \"\"\n",
    "\n",
    "dir_data = \"data\"\n",
    "\n",
    "mode = \"bike_incwalk\"\n",
    "# tolerable access is determined by input network: all segments that have an index value assigned \n",
    "# (other than NULL, > 0) but have mode access set to False\n",
    "access = \"bicycle\" \n",
    "\n",
    "# generated params\n",
    "index_col_ft = f\"index_{mode}_ft\"\n",
    "index_col_tf = f\"index_{mode}_tf\"\n",
    "file = os.path.join(dir_data, f\"r_<aoi_name>_edges{file_suffix}.gpkg\")\n",
    "file_ps = os.path.join(dir_data, f\"ps_<aoi_name>{file_suffix}.gpkg\")\n",
    "ccol_a = f\"centr_{centrality_variant}_ft\"\n",
    "ccol_b = f\"centr_{centrality_variant}_tf\"\n"
   ]
  },
  {
   "cell_type": "code",
   "execution_count": null,
   "metadata": {},
   "outputs": [],
   "source": [
    "def summarize_ps(df, pscol):\n",
    "    parts = pscol.split(\"_\")\n",
    "    t = 1\n",
    "    ps_name = parts[-1]\n",
    "    if \"t\" in parts[-1]:\n",
    "        ps_name = parts[-2]\n",
    "        t = parts[-1].lstrip(\"t\")\n",
    "    print(\"name:\", ps_name, \"t:\", t)\n",
    "    key = f\"{ps_name} t{t}\"\n",
    "    \n",
    "    # by % of ps value\n",
    "    h0 = df[df[pscol] >= df[pscol].max()*0.2]\n",
    "    h1 = df[df[pscol] >= df[pscol].max()*0.1]\n",
    "    h2 = df[df[pscol] >= df[pscol].quantile(0.99)]\n",
    "    #ax = h1.bikeability.hist(bins=[0.0,0.2,0.4,0.6,0.8,1.0], label=key, histtype=\"bar\")\n",
    "    #ax.legend()\n",
    "    #plt.show()\n",
    "    h0b = h0.bikeability\n",
    "    h1b = h1.bikeability\n",
    "    h2b = h2.bikeability\n",
    "    h0_ba.append(h0b)\n",
    "    h1_ba.append(h1b)\n",
    "    h2_ba.append(h2b)\n",
    "    keys.append(key)\n",
    "    \n",
    "    return {\"ps\": key, \"aoi\":aoi_name, \n",
    "            \"h0_n\": len(h0b), \"h0_share\": len(h0b)/len(df), \"h0_b_mean\": h0b.mean(), \"h0_b_median\": h0b.quantile(0.5),\n",
    "            \"h1_n\": len(h1b), \"h1_share\": len(h1b)/len(df), \"h1_b_mean\": h1b.mean(), \"h1_b_median\": h1b.quantile(0.5),\n",
    "            \"h2_n\": len(h2b), \"h2_share\": len(h2b)/len(df), \"h2_b_mean\": h2b.mean(), \"h2_b_median\": h2b.quantile(0.5)\n",
    "            } #| h1[\"bikeability\"].describe().to_dict()\n",
    "    #return {\"ps\": key, \"dta\": df[pscol].describe()}"
   ]
  },
  {
   "cell_type": "code",
   "execution_count": null,
   "metadata": {},
   "outputs": [],
   "source": [
    "stats = []\n",
    "for aoi_name in aoi_names:\n",
    "    cols = nh.read_cols_from_gpkg(file_ps.replace(\"<aoi_name>\", aoi_name))\n",
    "    pscols = []\n",
    "    for c in cols:\n",
    "        if c.find(centrality_variant) > -1 and (not (c.endswith(\"_ft\") or c.endswith(\"_tf\"))):\n",
    "            pscols.append(c)\n",
    "    generic_cols = []\n",
    "    for c in cols:\n",
    "        if not c.startswith(\"centr_\") and not c.startswith(\"ps_\"):\n",
    "            generic_cols.append(c)\n",
    "    # read file\n",
    "    ps = gpd.read_file(file_ps.replace(\"<aoi_name>\", aoi_name), columns=(generic_cols + pscols + [ccol_a, ccol_b]), mask=h.get_aoi_extent(aoi_name))\n",
    "    ps.loc[:,\"bikeability\"] = ps[[f\"index_{mode}_ft\", f\"index_{mode}_tf\"]].mean(axis=1)\n",
    "    ps.loc[:,\"centrality\"] = ps[[ccol_a, ccol_b]].mean(axis=1)\n",
    "    ps.head()\n",
    "    if len(ps) < 1:\n",
    "        print(f\"WARN: no segments received for the core area of '{aoi_name}'. Please check input. Skipping.\")\n",
    "        continue\n",
    "    # prepare for processing\n",
    "    h0_ba = []\n",
    "    h1_ba = []\n",
    "    h2_ba = []\n",
    "    keys = []\n",
    "    for pscol in pscols:\n",
    "        stats.append(summarize_ps(ps, pscol))\n",
    "    plt.hist(h0_ba, label=keys, bins=[0.0, 0.2, 0.4, 0.6, 0.8, 1.0])\n",
    "    plt.legend()\n",
    "    h.save_plot(f\"ps_{centrality_variant}_h0_bikeability_hist\", os.path.join(\"plots\", aoi_name))\n",
    "    plt.hist(h1_ba, label=keys, bins=[0.0, 0.2, 0.4, 0.6, 0.8, 1.0])\n",
    "    plt.legend()\n",
    "    h.save_plot(f\"ps_{centrality_variant}_h1_bikeability_hist\", os.path.join(\"plots\", aoi_name))\n",
    "    plt.hist(h2_ba, label=keys, bins=[0.0, 0.2, 0.4, 0.6, 0.8, 1.0])\n",
    "    plt.legend()\n",
    "    h.save_plot(f\"ps_{centrality_variant}_h2_bikeability_hist\", os.path.join(\"plots\", aoi_name))\n",
    "stats_df = pd.DataFrame(stats)\n",
    "display(stats_df)"
   ]
  },
  {
   "cell_type": "code",
   "execution_count": null,
   "metadata": {},
   "outputs": [],
   "source": [
    "g = stats_df.groupby(\"ps\")\n",
    "g.h1_b_mean.describe()"
   ]
  },
  {
   "cell_type": "code",
   "execution_count": null,
   "metadata": {},
   "outputs": [],
   "source": [
    "g.h2_b_mean.describe()"
   ]
  },
  {
   "cell_type": "code",
   "execution_count": null,
   "metadata": {},
   "outputs": [],
   "source": [
    "g.h0_b_mean.describe().loc[[\"p1 t1\", \"p2 t1\", \"p3 t1\", \"p1 t0.8\", \"p2 t0.8\", \"p3 t0.8\"],[\"min\", \"mean\", \"max\"]].plot()\n",
    "h.save_plot(f\"ps_{centrality_variant}_h0_mean_bikeability\", \"plots\")"
   ]
  },
  {
   "cell_type": "code",
   "execution_count": null,
   "metadata": {},
   "outputs": [],
   "source": [
    "g.h1_b_mean.describe().loc[[\"p1 t1\", \"p2 t1\", \"p3 t1\", \"p1 t0.8\", \"p2 t0.8\", \"p3 t0.8\"],[\"min\", \"mean\", \"max\"]].plot()\n",
    "h.save_plot(f\"ps_{centrality_variant}_h1_mean_bikeability\", \"plots\")"
   ]
  },
  {
   "cell_type": "code",
   "execution_count": null,
   "metadata": {},
   "outputs": [],
   "source": [
    "g.h2_b_mean.describe().loc[[\"p1 t1\", \"p2 t1\", \"p3 t1\", \"p1 t0.8\", \"p2 t0.8\", \"p3 t0.8\"],[\"min\", \"mean\", \"max\"]].plot()\n",
    "h.save_plot(f\"ps_{centrality_variant}_h2_mean_bikeability\", \"plots\")"
   ]
  },
  {
   "cell_type": "code",
   "execution_count": null,
   "metadata": {},
   "outputs": [],
   "source": [
    "stats_df.to_csv(os.path.join(dir_data, \"ps_stats.csv\"))"
   ]
  }
 ],
 "metadata": {
  "kernelspec": {
   "display_name": "da",
   "language": "python",
   "name": "python3"
  },
  "language_info": {
   "codemirror_mode": {
    "name": "ipython",
    "version": 3
   },
   "file_extension": ".py",
   "mimetype": "text/x-python",
   "name": "python",
   "nbconvert_exporter": "python",
   "pygments_lexer": "ipython3",
   "version": "3.12.5"
  }
 },
 "nbformat": 4,
 "nbformat_minor": 2
}
