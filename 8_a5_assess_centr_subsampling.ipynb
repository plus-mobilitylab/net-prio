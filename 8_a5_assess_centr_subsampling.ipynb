{
 "cells": [
  {
   "cell_type": "markdown",
   "metadata": {},
   "source": [
    "# Workflow #5\n",
    "\n",
    "Comparative assessment: Node subsampling distance variants"
   ]
  },
  {
   "cell_type": "code",
   "execution_count": null,
   "metadata": {},
   "outputs": [],
   "source": [
    "import algo.net_helper as nh\n",
    "import algo.helper as h\n",
    "import os.path\n",
    "import geopandas as gpd\n",
    "import numpy as np\n",
    "import pandas as pd\n",
    "import contextily as cx\n",
    "import matplotlib.pyplot as plt\n",
    "import plotly.graph_objects as go\n",
    "\n",
    "# settings\n",
    "aoi_names = [\"at_wien\", \"at_zs\", \"at_ib\", \"at_no\", \"at_zw\", \"at_graz_15\"]\n",
    "\n",
    "recalc = False\n",
    "generate_plots = True\n",
    "plot_dir = os.path.join(\"plots\", \"centr_subsampling\")\n",
    "\n",
    "file_suffix = \"\"\n",
    "\n",
    "dir_data = \"data\"\n",
    "\n",
    "mode = \"bike_incwalk\"\n",
    "# tolerable access is determined by input network: all segments that have an index value assigned \n",
    "# (other than NULL, > 0) but have mode access set to False\n",
    "access = \"bicycle\" \n",
    "\n",
    "# plot settings\n",
    "P_SIZE_S = (4,3)\n",
    "# colors: distance variants\n",
    "P_C_D2 = \"#2C8DBC\"\n",
    "P_C_D4 = \"#056390\"\n",
    "P_C_D7 = \"#003650\"\n",
    "# colors: min, mean, max\n",
    "P_C_MIN = \"#00A246\"\n",
    "P_C_MEAN = \"#270D9D\"\n",
    "P_C_MAX = \"#C60049\"\n",
    "\n",
    "# generated params\n",
    "file = os.path.join(dir_data, f\"r_<aoi_name>_edges{file_suffix}.gpkg\")\n",
    "f_diffstats_subsampling = os.path.join(dir_data, f\"centr_diffstats_subsampling.csv\")\n",
    "f_cdf_full = os.path.join(dir_data, f\"cdf_full.csv\")"
   ]
  },
  {
   "cell_type": "code",
   "execution_count": null,
   "metadata": {},
   "outputs": [],
   "source": [
    "def run_comparison(aoi, centr_summary, centr_cdf, plot_types=[\"sbc\"], plot_nws=[300, 600, 1500]):\n",
    "    fn = file.replace(\"<aoi_name>\", aoi)\n",
    "    if not os.path.exists(fn):\n",
    "        print(f\"ERR: file '{fn}' not found.\")\n",
    "        return\n",
    "    dir_detail_plot = os.path.join(\"plots\", aoi)\n",
    "    aoi_core_extent = h.get_aoi_extent(aoi)\n",
    "    # read file (clipped to bounding box of core extent - needs to be clipped to exact extent after import)\n",
    "    centr_df = gpd.read_file(fn, bbox=aoi_core_extent.iloc[0].geometry.bounds, engine='pyogrio') # pot. speedup: use arrow\n",
    "    print(\"loaded input gdf.\", len(centr_df), \"edges\")\n",
    "    print(\"clipping to core AOI extent...\")\n",
    "    centr_df = centr_df.clip(aoi_core_extent)\n",
    "    print(\"done.\", len(centr_df), \"edges\")\n",
    "    cols = centr_df.columns\n",
    "    # compute cumulative distribution per centr col\n",
    "    print(\"generating cumulative distr. for centrality columns...\")\n",
    "    ccdf = h.save_cdf(centr_df, os.path.join(dir_detail_plot, \"centr_cdf.csv\"))\n",
    "    centr_cdf.append({\"aoi\":aoi, \"df\":ccdf})\n",
    "    # now run comparisons\n",
    "    for refcol in centr_df.columns:\n",
    "        if not refcol.startswith(\"centr_\") or not refcol.endswith(\"_sum\") or refcol.find(\"_nws_\")>-1:\n",
    "            continue\n",
    "        cref = h.CentralityDef.from_str(refcol)\n",
    "        cols_cdf_plot = [cref.to_str()]\n",
    "        print(\"processing ref col:\", cref)\n",
    "        # find compare target cols\n",
    "        for col in cols:\n",
    "            if col.find(cref.to_str()) < 0 or not col.endswith(\"_sum\") or col.find(\"_nws_\") < 0:\n",
    "                continue\n",
    "            cref_label = \"orig\"\n",
    "            c = h.CentralityDef.from_str(col)\n",
    "            c_label = f\"{c.nws} m\"\n",
    "            enable_plots = False\n",
    "            if generate_plots and c.type in plot_types and c.nws in plot_nws:\n",
    "                enable_plots = True\n",
    "            c_type = cref.to_str().lstrip(\"centr_\")\n",
    "            comp_label = f\"{c_type}_subsampling\"\n",
    "            comp_variant_label = f\"{c_type} {c_label}\"\n",
    "            # run comparison\n",
    "            centr_summary.append(\n",
    "                h.centr_comparison(aoi, centr_df, c, cref, dir_detail_plot=dir_detail_plot, centr_diff_name=comp_label,\n",
    "                                   c_label=c_label, cref_label=cref_label, ccomp_label=comp_variant_label, generate_plots=enable_plots)\n",
    "                )\n",
    "            cols_cdf_plot.append(c.to_str())\n",
    "        # plot cumulative centrality distribution\n",
    "        ccdf[cols_cdf_plot].plot()\n",
    "        h.save_plot(f\"cdf_{cref}\", dir_detail_plot)\n",
    "    "
   ]
  },
  {
   "cell_type": "code",
   "execution_count": null,
   "metadata": {},
   "outputs": [],
   "source": [
    "if not recalc and os.path.exists(f_diffstats_subsampling):\n",
    "    diffstats = pd.read_csv(f_diffstats_subsampling)\n",
    "    full_cdf = pd.read_csv(f_cdf_full)\n",
    "    display(diffstats.head())\n",
    "else:\n",
    "    centr_summary = []\n",
    "    centr_cdf = []\n",
    "    for aoi in aoi_names:\n",
    "        run_comparison(aoi, centr_summary, centr_cdf)\n",
    "        \n",
    "    diffstats = pd.DataFrame.from_dict(centr_summary, orient=\"columns\")\n",
    "    display(diffstats.head())\n",
    "    diffstats.to_csv(f_diffstats_subsampling)\n",
    "    # collect and join all cumulative distribution results to single df and save to CSV\n",
    "    collect_cdf = []\n",
    "    for result in centr_cdf:\n",
    "        cur_aoi = result[\"aoi\"]\n",
    "        cur_df = result[\"df\"]\n",
    "        cur_df.rename(columns=lambda x: f\"{cur_aoi}__{x}\", inplace=True)\n",
    "        print(result[\"aoi\"])\n",
    "        collect_cdf.append(cur_df)\n",
    "    full_cdf = collect_cdf[0].join(collect_cdf[1:])\n",
    "    full_cdf.to_csv(f_cdf_full)"
   ]
  },
  {
   "cell_type": "code",
   "execution_count": null,
   "metadata": {},
   "outputs": [],
   "source": [
    "# compare each centrality variant across cases\n",
    "hc_ch_grp = diffstats.groupby([\"label_compare\"]).hc_seg_share_changed.describe()\n",
    "hc_ch_grp"
   ]
  },
  {
   "cell_type": "code",
   "execution_count": null,
   "metadata": {},
   "outputs": [],
   "source": [
    "diffstats[diffstats.name_cref.isin([\"centr_sbc_c2000_sp_sum\", \"centr_sbc_c4000_sp_sum\"])].head()"
   ]
  },
  {
   "cell_type": "code",
   "execution_count": null,
   "metadata": {},
   "outputs": [],
   "source": [
    "# plot share of HC segments changed, ordered by mean (grouped by comparison pair) -> min, mean, and max of AOIs (one value per AOI)\n",
    "hc_ch_grp[hc_ch_grp[\"count\"]>4][[\"min\", \"mean\", \"max\"]].sort_values(by=\"mean\").plot(figsize=(20,4), color=[P_C_MIN, P_C_MEAN, P_C_MAX])\n",
    "#plt.show()\n",
    "h.save_plot(\"hc_share_chg_aoi_variation\", plot_dir, show=True)"
   ]
  },
  {
   "cell_type": "markdown",
   "metadata": {},
   "source": [
    "## High-Centrality segments -- FILTERED: only sbc bp_d4\n",
    "### Share changed"
   ]
  },
  {
   "cell_type": "code",
   "execution_count": null,
   "metadata": {},
   "outputs": [],
   "source": [
    "ds_sbc_bp = diffstats[(diffstats.c_type == \"sbc\") & (diffstats.c_is_bp)]\n",
    "ds_sbc_bp.head()"
   ]
  },
  {
   "cell_type": "code",
   "execution_count": null,
   "metadata": {},
   "outputs": [],
   "source": [
    "# HC segments (p-based): share changed (relative to all segments which were classified as HC in cref as well as in c)\n",
    "# computed across all AOIs and centrality variants (6x6)\n",
    "ds_sbc_bp.groupby(\"label_c\").hc_seg_share_changed.describe()"
   ]
  },
  {
   "cell_type": "code",
   "execution_count": null,
   "metadata": {},
   "outputs": [],
   "source": [
    "## USE ##\n",
    "# HC segments (p-based): share changed (relative to all segments which were classified as HC in cref as well as in c)\n",
    "# computed across all AOIs and centrality variants \n",
    "subsample_dists = [\"300 m\", \"600 m\", \"900 m\", \"1200 m\", \"1500 m\"]\n",
    "ds_sbc_bp.groupby(\"label_c\").hc_seg_share_changed.min()[subsample_dists].plot(legend=True, label=\"min\", color=P_C_MIN, figsize=P_SIZE_S)\n",
    "ds_sbc_bp.groupby(\"label_c\").hc_seg_share_changed.mean()[subsample_dists].plot(legend=True, label=\"mean\", color=P_C_MEAN)\n",
    "ds_sbc_bp.groupby(\"label_c\").hc_seg_share_changed.max()[subsample_dists].plot(legend=True, label=\"max\", color=P_C_MAX)\n",
    "plt.xlabel(\"subsampling distance\")\n",
    "h.save_plot(\"sbc_bp__hc_share_chg_sd_all\", plot_dir, show=True)"
   ]
  },
  {
   "cell_type": "code",
   "execution_count": null,
   "metadata": {},
   "outputs": [],
   "source": [
    "ds_sbc_bp[ds_sbc_bp.c_cut == 7000].groupby([\"label_c\"]).hc_seg_share_changed.describe()"
   ]
  },
  {
   "cell_type": "code",
   "execution_count": null,
   "metadata": {},
   "outputs": [],
   "source": [
    "## USE ##\n",
    "# HC segments: mean share changed \n",
    "# by route distance cutoff (including decay variants)\n",
    "ds_sbc_bp[ds_sbc_bp.c_cut == 2000].groupby([\"label_c\"]).hc_seg_share_changed.mean()[subsample_dists].plot(legend=True, label=\"2 km\", color=P_C_D2, figsize=P_SIZE_S)\n",
    "ds_sbc_bp[ds_sbc_bp.c_cut == 4000].groupby([\"label_c\"]).hc_seg_share_changed.mean()[subsample_dists].plot(legend=True, label=\"4 km\", color=P_C_D4)\n",
    "ds_sbc_bp[ds_sbc_bp.c_cut == 7000].groupby([\"label_c\"]).hc_seg_share_changed.mean()[subsample_dists].plot(legend=True, label=\"7 km\", color=P_C_D7)\n",
    "plt.xlabel(\"subsampling distance\")\n",
    "h.save_plot(\"sbc_bp__hc_share_chg_sd_rdist\", plot_dir, show=True)"
   ]
  },
  {
   "cell_type": "markdown",
   "metadata": {},
   "source": [
    "### Normalized difference"
   ]
  },
  {
   "cell_type": "code",
   "execution_count": null,
   "metadata": {},
   "outputs": [],
   "source": [
    "ds_sbc_bp.groupby(\"label_c\").hcp_dn_abs_mean.describe()"
   ]
  },
  {
   "cell_type": "code",
   "execution_count": null,
   "metadata": {},
   "outputs": [],
   "source": [
    "## USE ##\n",
    "### HC (p-based) # absolute values (mean abs. norm. delta)\n",
    "subsample_dists = [\"300 m\", \"600 m\", \"900 m\", \"1200 m\", \"1500 m\"]\n",
    "ds_sbc_bp.groupby(\"label_c\").hcp_dn_abs_mean.min()[subsample_dists].plot(legend=True, label=\"min\", color=P_C_MIN, figsize=P_SIZE_S)\n",
    "ds_sbc_bp.groupby(\"label_c\").hcp_dn_abs_mean.mean()[subsample_dists].plot(legend=True, label=\"mean\", color=P_C_MEAN)\n",
    "ds_sbc_bp.groupby(\"label_c\").hcp_dn_abs_mean.max()[subsample_dists].plot(legend=True, label=\"max\", color=P_C_MAX)\n",
    "plt.xlabel(\"subsampling distance\")\n",
    "h.save_plot(\"sbc_bp__hc_dn_sd_all_abs\", plot_dir, show=True)"
   ]
  },
  {
   "cell_type": "code",
   "execution_count": null,
   "metadata": {},
   "outputs": [],
   "source": [
    "ds_sbc_bp[ds_sbc_bp.c_cut == 7000].groupby(\"label_c\").hcp_dn_abs_mean.describe()"
   ]
  },
  {
   "cell_type": "code",
   "execution_count": null,
   "metadata": {},
   "outputs": [],
   "source": [
    "# HC segments\n",
    "# by route distance cutoff (including decay variants)\n",
    "diffstats[diffstats.c_cut == 2000].groupby([\"label_c\"]).hcp_dn_abs_mean.mean()[subsample_dists].plot(legend=True, label=\"2 km\", color=P_C_D2, figsize=P_SIZE_S)\n",
    "diffstats[diffstats.c_cut == 4000].groupby([\"label_c\"]).hcp_dn_abs_mean.mean()[subsample_dists].plot(legend=True, label=\"4 km\", color=P_C_D4)\n",
    "diffstats[diffstats.c_cut == 7000].groupby([\"label_c\"]).hcp_dn_abs_mean.mean()[subsample_dists].plot(legend=True, label=\"7 km\", color=P_C_D7)\n",
    "plt.xlabel(\"subsampling distance\")\n",
    "h.save_plot(\"sbc_bp__hc_dn_sd_rdist\", plot_dir, show=True)"
   ]
  },
  {
   "cell_type": "markdown",
   "metadata": {},
   "source": [
    "## High-Centrality segments\n",
    "### Share changed"
   ]
  },
  {
   "cell_type": "code",
   "execution_count": null,
   "metadata": {},
   "outputs": [],
   "source": [
    "# HC segments (p-based): share changed (relative to all segments which were classified as HC in cref as well as in c)\n",
    "# computed across all AOIs and centrality variants \n",
    "subsample_dists = [\"300 m\", \"600 m\", \"900 m\", \"1200 m\", \"1500 m\"]\n",
    "diffstats.groupby(\"label_c\").hc_seg_share_changed.min()[subsample_dists].plot(legend=True, label=\"min\", color=P_C_MIN, figsize=P_SIZE_S)\n",
    "diffstats.groupby(\"label_c\").hc_seg_share_changed.mean()[subsample_dists].plot(legend=True, label=\"mean\", color=P_C_MEAN)\n",
    "diffstats.groupby(\"label_c\").hc_seg_share_changed.max()[subsample_dists].plot(legend=True, label=\"max\", color=P_C_MAX)\n",
    "plt.xlabel(\"subsampling distance\")\n",
    "h.save_plot(\"hc_share_chg_sd_all\", plot_dir, show=True)"
   ]
  },
  {
   "cell_type": "code",
   "execution_count": null,
   "metadata": {},
   "outputs": [],
   "source": [
    "# HC segments: mean share changed \n",
    "# by route distance cutoff (including decay variants)\n",
    "diffstats[diffstats.c_cut == 2000].groupby([\"label_c\"]).hc_seg_share_changed.mean()[subsample_dists].plot(legend=True, label=\"2 km\", color=P_C_D2, figsize=P_SIZE_S)\n",
    "diffstats[diffstats.c_cut == 4000].groupby([\"label_c\"]).hc_seg_share_changed.mean()[subsample_dists].plot(legend=True, label=\"4 km\", color=P_C_D4)\n",
    "diffstats[diffstats.c_cut == 7000].groupby([\"label_c\"]).hc_seg_share_changed.mean()[subsample_dists].plot(legend=True, label=\"7 km\", color=P_C_D7)\n",
    "plt.xlabel(\"subsampling distance\")\n",
    "h.save_plot(\"hc_share_chg_sd_rdist\", plot_dir, show=True)"
   ]
  },
  {
   "cell_type": "code",
   "execution_count": null,
   "metadata": {},
   "outputs": [],
   "source": [
    "# HC segments: share changed\n",
    "# by route distance cutoff; filtered to non-decay variants\n",
    "diffstats[(diffstats.c_cut == 2000) & (diffstats.c_decay_from < 0)].groupby([\"label_c\"]).hc_seg_share_changed.mean()[subsample_dists].plot(legend=True, label=\"2 km\", color=P_C_D2, figsize=P_SIZE_S)\n",
    "diffstats[(diffstats.c_cut == 4000) & (diffstats.c_decay_from < 0)].groupby([\"label_c\"]).hc_seg_share_changed.mean()[subsample_dists].plot(legend=True, label=\"4 km\", color=P_C_D4)\n",
    "diffstats[(diffstats.c_cut == 7000) & (diffstats.c_decay_from < 0)].groupby([\"label_c\"]).hc_seg_share_changed.mean()[subsample_dists].plot(legend=True, label=\"7 km\", color=P_C_D7)\n",
    "plt.xlabel(\"subsampling distance\")\n",
    "h.save_plot(\"hc_share_chg_sd_rdist_nodecay\", plot_dir, show=True)"
   ]
  },
  {
   "cell_type": "markdown",
   "metadata": {},
   "source": [
    "### Normalized difference"
   ]
  },
  {
   "cell_type": "code",
   "execution_count": null,
   "metadata": {},
   "outputs": [],
   "source": [
    "diffstats.groupby(\"label_c\").hcp_dn_mean.describe()"
   ]
  },
  {
   "cell_type": "code",
   "execution_count": null,
   "metadata": {},
   "outputs": [],
   "source": [
    "### HC (p-based)\n",
    "subsample_dists = [\"300 m\", \"600 m\", \"900 m\", \"1200 m\", \"1500 m\"]\n",
    "diffstats.groupby(\"label_c\").hcp_dn_mean.min()[subsample_dists].plot(legend=True, label=\"min\", color=P_C_MIN, figsize=P_SIZE_S)\n",
    "diffstats.groupby(\"label_c\").hcp_dn_mean.mean()[subsample_dists].plot(legend=True, label=\"mean\", color=P_C_MEAN)\n",
    "diffstats.groupby(\"label_c\").hcp_dn_mean.max()[subsample_dists].plot(legend=True, label=\"max\", color=P_C_MAX)\n",
    "plt.xlabel(\"subsampling distance\")\n",
    "h.save_plot(\"hc_dn_sd_all\", plot_dir, show=True)"
   ]
  },
  {
   "cell_type": "code",
   "execution_count": null,
   "metadata": {},
   "outputs": [],
   "source": [
    "### HC (p-based) # absolute values\n",
    "subsample_dists = [\"300 m\", \"600 m\", \"900 m\", \"1200 m\", \"1500 m\"]\n",
    "diffstats.groupby(\"label_c\").hcp_dn_abs_mean.min()[subsample_dists].plot(legend=True, label=\"min\", color=P_C_MIN, figsize=P_SIZE_S)\n",
    "diffstats.groupby(\"label_c\").hcp_dn_abs_mean.mean()[subsample_dists].plot(legend=True, label=\"mean\", color=P_C_MEAN)\n",
    "diffstats.groupby(\"label_c\").hcp_dn_abs_mean.max()[subsample_dists].plot(legend=True, label=\"max\", color=P_C_MAX)\n",
    "plt.xlabel(\"subsampling distance\")\n",
    "h.save_plot(\"hc_dn_sd_all_abs\", plot_dir, show=True)\n"
   ]
  },
  {
   "cell_type": "code",
   "execution_count": null,
   "metadata": {},
   "outputs": [],
   "source": [
    "# HC segments\n",
    "# by route distance cutoff (including decay variants)\n",
    "diffstats[diffstats.c_cut == 2000].groupby([\"label_c\"]).hcp_dn_abs_mean.mean()[subsample_dists].plot(legend=True, label=\"2 km\", color=P_C_D2, figsize=P_SIZE_S)\n",
    "diffstats[diffstats.c_cut == 4000].groupby([\"label_c\"]).hcp_dn_abs_mean.mean()[subsample_dists].plot(legend=True, label=\"4 km\", color=P_C_D4)\n",
    "diffstats[diffstats.c_cut == 7000].groupby([\"label_c\"]).hcp_dn_abs_mean.mean()[subsample_dists].plot(legend=True, label=\"7 km\", color=P_C_D7)\n",
    "plt.xlabel(\"subsampling distance\")\n",
    "h.save_plot(\"hc_dn_sd_rdist\", plot_dir, show=True)"
   ]
  },
  {
   "cell_type": "code",
   "execution_count": null,
   "metadata": {},
   "outputs": [],
   "source": [
    "# HC segments\n",
    "# by route distance cutoff; filtered to non-decay variants\n",
    "diffstats[(diffstats.c_cut == 2000) & (diffstats.c_decay_from < 0)].groupby([\"label_c\"]).hcp_dn_abs_mean.mean()[subsample_dists].plot(legend=True, label=\"2 km\", color=P_C_D2, figsize=P_SIZE_S)\n",
    "diffstats[(diffstats.c_cut == 4000) & (diffstats.c_decay_from < 0)].groupby([\"label_c\"]).hcp_dn_abs_mean.mean()[subsample_dists].plot(legend=True, label=\"4 km\", color=P_C_D4)\n",
    "diffstats[(diffstats.c_cut == 7000) & (diffstats.c_decay_from < 0)].groupby([\"label_c\"]).hcp_dn_abs_mean.mean()[subsample_dists].plot(legend=True, label=\"7 km\", color=P_C_D7)\n",
    "plt.xlabel(\"subsampling distance\")\n",
    "h.save_plot(\"hc_dn_sd_rdist_nodecay\", plot_dir, show=True)"
   ]
  },
  {
   "cell_type": "code",
   "execution_count": null,
   "metadata": {},
   "outputs": [],
   "source": [
    "# HC segments\n",
    "# by route distance cutoff; filtered to non-decay variants\n",
    "diffstats[(diffstats.c_cut == 2000) & (diffstats.c_decay_from < 0)].groupby([\"label_c\"]).hcp_dn_mean.mean()[subsample_dists].plot(legend=True, label=\"2 km\", color=P_C_D2, figsize=P_SIZE_S)\n",
    "diffstats[(diffstats.c_cut == 4000) & (diffstats.c_decay_from < 0)].groupby([\"label_c\"]).hcp_dn_mean.mean()[subsample_dists].plot(legend=True, label=\"4 km\", color=P_C_D4)\n",
    "diffstats[(diffstats.c_cut == 7000) & (diffstats.c_decay_from < 0)].groupby([\"label_c\"]).hcp_dn_mean.mean()[subsample_dists].plot(legend=True, label=\"7 km\", color=P_C_D7)\n",
    "plt.xlabel(\"subsampling distance\")"
   ]
  },
  {
   "cell_type": "markdown",
   "metadata": {},
   "source": [
    "### (q-based)"
   ]
  },
  {
   "cell_type": "code",
   "execution_count": null,
   "metadata": {},
   "outputs": [],
   "source": [
    "### HC (q-based)\n",
    "subsample_dists = [\"300 m\", \"600 m\", \"900 m\", \"1200 m\", \"1500 m\"]\n",
    "diffstats.groupby(\"label_c\").hcq_dn_mean.min()[subsample_dists].plot(legend=True, label=\"min\", color=P_C_MIN, figsize=P_SIZE_S)\n",
    "diffstats.groupby(\"label_c\").hcq_dn_mean.mean()[subsample_dists].plot(legend=True, label=\"mean\", color=P_C_MEAN)\n",
    "diffstats.groupby(\"label_c\").hcq_dn_mean.max()[subsample_dists].plot(legend=True, label=\"max\", color=P_C_MAX)\n",
    "plt.xlabel(\"subsampling distance\")"
   ]
  },
  {
   "cell_type": "markdown",
   "metadata": {},
   "source": [
    "## All segments"
   ]
  },
  {
   "cell_type": "code",
   "execution_count": null,
   "metadata": {},
   "outputs": [],
   "source": [
    "### All segments: normalized change\n",
    "subsample_dists = [\"300 m\", \"600 m\", \"900 m\", \"1200 m\", \"1500 m\"]\n",
    "diffstats.groupby(\"label_c\").dn_mean.min()[subsample_dists].plot(legend=True, label=\"min\", color=P_C_MIN, figsize=P_SIZE_S)\n",
    "diffstats.groupby(\"label_c\").dn_mean.mean()[subsample_dists].plot(legend=True, label=\"mean\", color=P_C_MEAN)\n",
    "diffstats.groupby(\"label_c\").dn_mean.max()[subsample_dists].plot(legend=True, label=\"max\", color=P_C_MAX)\n",
    "plt.xlabel(\"subsampling distance\")"
   ]
  },
  {
   "cell_type": "code",
   "execution_count": null,
   "metadata": {},
   "outputs": [],
   "source": [
    "### All segments: normalized change (absolute values)\n",
    "subsample_dists = [\"300 m\", \"600 m\", \"900 m\", \"1200 m\", \"1500 m\"]\n",
    "diffstats.groupby(\"label_c\").dn_abs_mean.min()[subsample_dists].plot(legend=True, label=\"min\", color=P_C_MIN, figsize=P_SIZE_S)\n",
    "diffstats.groupby(\"label_c\").dn_abs_mean.mean()[subsample_dists].plot(legend=True, label=\"mean\", color=P_C_MEAN)\n",
    "diffstats.groupby(\"label_c\").dn_abs_mean.max()[subsample_dists].plot(legend=True, label=\"max\", color=P_C_MAX)\n",
    "plt.xlabel(\"subsampling distance\")"
   ]
  },
  {
   "cell_type": "code",
   "execution_count": null,
   "metadata": {},
   "outputs": [],
   "source": [
    "# HC segments\n",
    "# by route distance cutoff (including decay variants)\n",
    "diffstats[diffstats.c_cut == 2000].groupby([\"label_c\"]).dn_abs_mean.mean()[subsample_dists].plot(legend=True, label=\"2 km\", color=P_C_D2, figsize=P_SIZE_S)\n",
    "diffstats[diffstats.c_cut == 4000].groupby([\"label_c\"]).dn_abs_mean.mean()[subsample_dists].plot(legend=True, label=\"4 km\", color=P_C_D4)\n",
    "diffstats[diffstats.c_cut == 7000].groupby([\"label_c\"]).dn_abs_mean.mean()[subsample_dists].plot(legend=True, label=\"7 km\", color=P_C_D7)\n",
    "plt.xlabel(\"subsampling distance\")"
   ]
  },
  {
   "cell_type": "code",
   "execution_count": null,
   "metadata": {},
   "outputs": [],
   "source": [
    "# HC segments\n",
    "# by route distance cutoff (including decay variants)\n",
    "diffstats[diffstats.c_cut == 2000].groupby([\"label_c\"]).dn_mean.mean()[subsample_dists].plot(legend=True, label=\"2 km\", color=P_C_D2, figsize=P_SIZE_S)\n",
    "diffstats[diffstats.c_cut == 4000].groupby([\"label_c\"]).dn_mean.mean()[subsample_dists].plot(legend=True, label=\"4 km\", color=P_C_D4)\n",
    "diffstats[diffstats.c_cut == 7000].groupby([\"label_c\"]).dn_mean.mean()[subsample_dists].plot(legend=True, label=\"7 km\", color=P_C_D7)\n",
    "plt.xlabel(\"subsampling distance\")"
   ]
  }
 ],
 "metadata": {
  "kernelspec": {
   "display_name": "da",
   "language": "python",
   "name": "python3"
  },
  "language_info": {
   "codemirror_mode": {
    "name": "ipython",
    "version": 3
   },
   "file_extension": ".py",
   "mimetype": "text/x-python",
   "name": "python",
   "nbconvert_exporter": "python",
   "pygments_lexer": "ipython3",
   "version": "3.12.5"
  }
 },
 "nbformat": 4,
 "nbformat_minor": 2
}
