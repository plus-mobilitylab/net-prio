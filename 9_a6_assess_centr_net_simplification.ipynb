{
 "cells": [
  {
   "cell_type": "markdown",
   "metadata": {},
   "source": [
    "# Workflow #6\n",
    "\n",
    "Comparative assessment: Network simplification\n",
    "\n",
    "**Please note:**\n",
    "For this comparison you need to re-compute centrality with network simplification deactivated. Please store these result files in a subdirectory `origNetNoSimplify` within the `data`-directory."
   ]
  },
  {
   "cell_type": "code",
   "execution_count": null,
   "metadata": {},
   "outputs": [],
   "source": [
    "import algo.helper as h\n",
    "import os.path\n",
    "import geopandas as gpd\n",
    "import pandas as pd\n",
    "import matplotlib.pyplot as plt\n",
    "\n",
    "# settings\n",
    "aoi_names = [\"at_wien\", \"at_zs\", \"at_ib\", \"at_no\", \"at_zw\", \"at_graz_15\"]\n",
    "\n",
    "recalc = True\n",
    "generate_plots = True\n",
    "plot_dir = os.path.join(\"plots\", \"centr_subsampling\")\n",
    "\n",
    "file_suffix = \"\"\n",
    "\n",
    "dir_data = \"data\"\n",
    "\n",
    "mode = \"bike_incwalk\"\n",
    "# tolerable access is determined by input network: all segments that have an index value assigned \n",
    "# (other than NULL, > 0) but have mode access set to False\n",
    "access = \"bicycle\" \n",
    "\n",
    "# plot settings\n",
    "P_SIZE_S = (4,3)\n",
    "# colors: distance variants\n",
    "P_C_D2 = \"#2C8DBC\"\n",
    "P_C_D4 = \"#056390\"\n",
    "P_C_D7 = \"#003650\"\n",
    "# colors: min, mean, max\n",
    "P_C_MIN = \"#00A246\"\n",
    "P_C_MEAN = \"#270D9D\"\n",
    "P_C_MAX = \"#C60049\"\n",
    "\n",
    "# generated params\n",
    "f_network_cent_simpnet = os.path.join(dir_data, f\"r_<aoi_name>_edges.gpkg\")\n",
    "f_network_cent_fullnet = os.path.join(dir_data, \"origNetNoSimplify\", f\"r_<aoi_name>_edges.gpkg\")\n",
    "f_compare_stats_out = os.path.join(dir_data, f\"r_c_simp_stats.csv\")"
   ]
  },
  {
   "cell_type": "code",
   "execution_count": null,
   "metadata": {},
   "outputs": [],
   "source": [
    "def run_comparison(aoi, centr_summary, centr_cdf, plot_types=[\"sbc\"], plot_nws=[300, 600, 1500]):\n",
    "    fn_full = f_network_cent_fullnet.replace(\"<aoi_name>\", aoi)\n",
    "    fn_simp = f_network_cent_simpnet.replace(\"<aoi_name>\", aoi)\n",
    "    if not os.path.exists(fn_full) or not os.path.exists(fn_simp):\n",
    "        print(f\"ERR: required centrality result files for aoi '{aoi}' not found.\")\n",
    "        return\n",
    "    dir_detail_plot = os.path.join(\"plots\", aoi)\n",
    "    aoi_core_extent = h.get_aoi_extent(aoi)\n",
    "    # read file (clipped to bounding box of core extent - needs to be clipped to exact extent after import)\n",
    "    centr_df_fullnet = gpd.read_file(fn_full, bbox=aoi_core_extent.iloc[0].geometry.bounds, engine='pyogrio') # pot. speedup: use arrow\n",
    "    if \"index\" in centr_df_fullnet.columns:\n",
    "        centr_df_fullnet.drop(columns=[\"index\"], inplace=True)\n",
    "    centr_df_fullnet.set_index(\"edge_id\", inplace=True, drop=False)\n",
    "    centr_df_fullnet.index.rename(\"index\", inplace=True)\n",
    "    centr_df_fullnet[\"length\"] = centr_df_fullnet.length\n",
    "    print(\"loaded input gdf. for full network\", len(centr_df_fullnet), \"edges\")\n",
    "    centr_df_simpnet = gpd.read_file(fn_simp, bbox=aoi_core_extent.iloc[0].geometry.bounds, engine='pyogrio') # pot. speedup: use arrow\n",
    "    if \"index\" in centr_df_simpnet.columns:\n",
    "        centr_df_simpnet.drop(columns=[\"index\"], inplace=True)\n",
    "    centr_df_simpnet.set_index(\"edge_id\", inplace=True, drop=False)\n",
    "    centr_df_simpnet.index.rename(\"index\", inplace=True)\n",
    "    centr_df_simpnet[\"length\"] = centr_df_simpnet.length\n",
    "    # append columns to fullnet df\n",
    "    centr_df_simpnet = centr_df_simpnet.filter(regex=\"(centr)\\w+\", axis=1)\n",
    "    # rename columns (for compatibility with helper function)\n",
    "    centr_df = centr_df_fullnet.join(centr_df_simpnet, rsuffix=\"_refnet\")\n",
    "    list(centr_df.columns)\n",
    "    def rename_cols(n):\n",
    "        parts = n.split(\"_\")\n",
    "        if parts[-1] != \"refnet\":\n",
    "            return n\n",
    "        parts[-1] = str(parts[-2])\n",
    "        parts[-2] = \"refnet\"\n",
    "        return \"_\".join(parts)\n",
    "    centr_df.rename(columns=rename_cols, inplace=True)\n",
    "\n",
    "    print(\"clipping to core AOI extent...\")\n",
    "    centr_df = centr_df.clip(aoi_core_extent)\n",
    "    print(\"done.\", len(centr_df), \"edges\")\n",
    "    cols = centr_df.columns\n",
    "\n",
    "    # now run comparisons\n",
    "    for cn in cols:\n",
    "        if not cn.startswith(\"centr\") or \"_nws_\" in cn or not cn.endswith(\"_sum\") or not \"refnet\" in cn:\n",
    "            continue\n",
    "        # c: simplified\n",
    "        c = h.CentralityDef.from_str(cn)\n",
    "        # corig: non-simplified, full network\n",
    "        corig = c.clone()\n",
    "        corig.refnet = False\n",
    "        print(\"comparing\", c, \"to\", corig)\n",
    "        _r_ = h.centr_comparison(aoi, centr_df, c, corig, c_label=f\"{c.cut}_simplified\", dir_detail_plot=dir_detail_plot, generate_plots=generate_plots)\n",
    "        if _r_ is not None:\n",
    "            centr_summary.append(_r_)    "
   ]
  },
  {
   "cell_type": "code",
   "execution_count": null,
   "metadata": {},
   "outputs": [],
   "source": [
    "if not recalc and os.path.exists(f_compare_stats_out):\n",
    "    diffstats = pd.read_csv(f_compare_stats_out)\n",
    "    display(diffstats.head())\n",
    "else:\n",
    "    centr_summary = []\n",
    "    centr_cdf = []\n",
    "    for aoi in aoi_names:\n",
    "        run_comparison(aoi, centr_summary, centr_cdf)\n",
    "        \n",
    "    diffstats = pd.DataFrame.from_dict(centr_summary, orient=\"columns\")\n",
    "    display(diffstats.head())\n",
    "    diffstats.to_csv(f_compare_stats_out)"
   ]
  },
  {
   "cell_type": "code",
   "execution_count": null,
   "metadata": {},
   "outputs": [],
   "source": [
    "diffstats"
   ]
  },
  {
   "cell_type": "code",
   "execution_count": null,
   "metadata": {},
   "outputs": [],
   "source": [
    "# compare each centrality variant across cases\n",
    "hc_ch_grp = diffstats.groupby([\"label_compare\"]).hc_seg_share_changed.describe()\n",
    "hc_ch_grp"
   ]
  },
  {
   "cell_type": "code",
   "execution_count": null,
   "metadata": {},
   "outputs": [],
   "source": [
    "# plot share of HC segments changed, ordered by mean (grouped by comparison pair) -> min, mean, and max of AOIs (one value per AOI)\n",
    "hc_ch_grp[hc_ch_grp[\"count\"]>4][[\"min\", \"mean\", \"max\"]].sort_values(by=\"mean\").plot(figsize=(20,4))"
   ]
  },
  {
   "cell_type": "code",
   "execution_count": null,
   "metadata": {},
   "outputs": [],
   "source": [
    "tmp = hc_ch_grp[hc_ch_grp[\"count\"]>4]\n",
    "trange = (tmp[\"max\"] - tmp[\"min\"]).sort_values(ascending=False)\n",
    "#tmp.loc[trange],[\"min\", \"mean\", \"max\"].plot(figsize=(20,4))\n",
    "tmp.loc[trange.index]"
   ]
  },
  {
   "cell_type": "code",
   "execution_count": null,
   "metadata": {},
   "outputs": [],
   "source": [
    "diffstats.hcq_dn_min.describe()"
   ]
  },
  {
   "cell_type": "code",
   "execution_count": null,
   "metadata": {},
   "outputs": [],
   "source": [
    "diffstats.hcp_dn_min.describe()"
   ]
  },
  {
   "cell_type": "code",
   "execution_count": null,
   "metadata": {},
   "outputs": [],
   "source": [
    "diffstats.hcp_dn_mean"
   ]
  },
  {
   "cell_type": "code",
   "execution_count": null,
   "metadata": {},
   "outputs": [],
   "source": [
    "diffstats[[\"label_c\", \"hcp_dn_mean\", \"hcq_dn_mean\"]].boxplot(by=\"label_c\", figsize=(10,5))"
   ]
  },
  {
   "cell_type": "markdown",
   "metadata": {},
   "source": [
    "## High-Centrality segments"
   ]
  },
  {
   "cell_type": "code",
   "execution_count": null,
   "metadata": {},
   "outputs": [],
   "source": [
    "# HC segments (p-based): share changed (relative to all segments which were classified as HC in cref as well as in c)\n",
    "# computed across all AOIs and centrality variants \n",
    "diffstats.groupby(\"label_c\").hc_seg_share_changed.min().plot(legend=True, label=\"min\")\n",
    "diffstats.groupby(\"label_c\").hc_seg_share_changed.mean().plot(legend=True, label=\"mean\")\n",
    "diffstats.groupby(\"label_c\").hc_seg_share_changed.max().plot(legend=True, label=\"max\")\n",
    "plt.xlabel(\"subsampling distance\")"
   ]
  },
  {
   "cell_type": "code",
   "execution_count": null,
   "metadata": {},
   "outputs": [],
   "source": [
    "# HC segments: mean share changed\n",
    "# by route distance cutoff\n",
    "diffstats.groupby([\"label_cref\"]).hc_seg_share_changed.mean()"
   ]
  },
  {
   "cell_type": "code",
   "execution_count": null,
   "metadata": {},
   "outputs": [],
   "source": [
    "diffstats.groupby([\"label_c\"]).hc_seg_share_changed.mean().plot(legend=True)\n"
   ]
  },
  {
   "cell_type": "code",
   "execution_count": null,
   "metadata": {},
   "outputs": [],
   "source": [
    "diffstats.hc_seg_share_changed.describe()"
   ]
  },
  {
   "cell_type": "code",
   "execution_count": null,
   "metadata": {},
   "outputs": [],
   "source": [
    "# mean absolute normalized delta\n",
    "diffstats.groupby(\"label_c\").hcp_dn_abs_mean.min().plot(legend=True, label=\"min\", color=P_C_MIN, figsize=P_SIZE_S)\n",
    "diffstats.groupby(\"label_c\").hcp_dn_abs_mean.mean().plot(legend=True, label=\"min\", color=P_C_MEAN)\n",
    "diffstats.groupby(\"label_c\").hcp_dn_abs_mean.max().plot(legend=True, label=\"min\", color=P_C_MAX)\n"
   ]
  },
  {
   "cell_type": "code",
   "execution_count": null,
   "metadata": {},
   "outputs": [],
   "source": [
    "diffstats.hcp_dn_abs_mean.describe()"
   ]
  },
  {
   "cell_type": "code",
   "execution_count": null,
   "metadata": {},
   "outputs": [],
   "source": [
    "diffstats.dn_incr_gt10.describe()"
   ]
  },
  {
   "cell_type": "code",
   "execution_count": null,
   "metadata": {},
   "outputs": [],
   "source": [
    "diffstats.dn_decr_gt10.describe()"
   ]
  },
  {
   "cell_type": "markdown",
   "metadata": {},
   "source": [
    "## All segments"
   ]
  },
  {
   "cell_type": "code",
   "execution_count": null,
   "metadata": {},
   "outputs": [],
   "source": [
    "### All segments: normalized change\n",
    "diffstats.groupby(\"label_c\").dn_mean.min().plot(legend=True, label=\"min\")\n",
    "diffstats.groupby(\"label_c\").dn_mean.mean().plot(legend=True, label=\"mean\")\n",
    "diffstats.groupby(\"label_c\").dn_mean.max().plot(legend=True, label=\"max\")\n",
    "plt.xlabel(\"subsampling distance\")\n",
    "# TODO: same for mean absolute change -> dn_abs_mean"
   ]
  }
 ],
 "metadata": {
  "kernelspec": {
   "display_name": "da",
   "language": "python",
   "name": "python3"
  },
  "language_info": {
   "codemirror_mode": {
    "name": "ipython",
    "version": 3
   },
   "file_extension": ".py",
   "mimetype": "text/x-python",
   "name": "python",
   "nbconvert_exporter": "python",
   "pygments_lexer": "ipython3",
   "version": "3.12.3"
  }
 },
 "nbformat": 4,
 "nbformat_minor": 2
}
